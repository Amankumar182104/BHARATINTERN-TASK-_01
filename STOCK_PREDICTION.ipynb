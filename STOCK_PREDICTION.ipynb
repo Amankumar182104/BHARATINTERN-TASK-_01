{
 "cells": [
  {
   "cell_type": "markdown",
   "id": "1bb5712b",
   "metadata": {},
   "source": [
    "# Stock Prediction"
   ]
  },
  {
   "cell_type": "markdown",
   "id": "6eaff606",
   "metadata": {},
   "source": [
    "# Importing libraries"
   ]
  },
  {
   "cell_type": "code",
   "execution_count": 2,
   "id": "6378a4bd",
   "metadata": {
    "scrolled": true
   },
   "outputs": [],
   "source": [
    "import pandas as pd \n",
    "import numpy as np\n",
    "import matplotlib.pyplot as plt\n",
    "import seaborn as sns\n",
    "import math as mt\n",
    "import tensorflow as tf\n",
    "from tensorflow.keras.layers import Dense\n",
    "from tensorflow.keras.layers import LSTM\n",
    "from tensorflow.keras.models import Sequential\n",
    "from sklearn.preprocessing import MinMaxScaler\n",
    "from sklearn.metrics import mean_squared_error"
   ]
  },
  {
   "cell_type": "code",
   "execution_count": 3,
   "id": "a04a1e75",
   "metadata": {},
   "outputs": [],
   "source": [
    "data=pd.read_csv(r\"C:\\Users\\AMAN KUMAR\\Downloads\\NSE-TATAGLOBAL.csv\")"
   ]
  },
  {
   "cell_type": "code",
   "execution_count": 4,
   "id": "8c6a02bb",
   "metadata": {},
   "outputs": [
    {
     "data": {
      "text/html": [
       "<div>\n",
       "<style scoped>\n",
       "    .dataframe tbody tr th:only-of-type {\n",
       "        vertical-align: middle;\n",
       "    }\n",
       "\n",
       "    .dataframe tbody tr th {\n",
       "        vertical-align: top;\n",
       "    }\n",
       "\n",
       "    .dataframe thead th {\n",
       "        text-align: right;\n",
       "    }\n",
       "</style>\n",
       "<table border=\"1\" class=\"dataframe\">\n",
       "  <thead>\n",
       "    <tr style=\"text-align: right;\">\n",
       "      <th></th>\n",
       "      <th>Date</th>\n",
       "      <th>Open</th>\n",
       "      <th>High</th>\n",
       "      <th>Low</th>\n",
       "      <th>Last</th>\n",
       "      <th>Close</th>\n",
       "      <th>Total Trade Quantity</th>\n",
       "      <th>Turnover (Lacs)</th>\n",
       "    </tr>\n",
       "  </thead>\n",
       "  <tbody>\n",
       "    <tr>\n",
       "      <th>0</th>\n",
       "      <td>2018-09-28</td>\n",
       "      <td>234.05</td>\n",
       "      <td>235.95</td>\n",
       "      <td>230.20</td>\n",
       "      <td>233.50</td>\n",
       "      <td>233.75</td>\n",
       "      <td>3069914</td>\n",
       "      <td>7162.35</td>\n",
       "    </tr>\n",
       "    <tr>\n",
       "      <th>1</th>\n",
       "      <td>2018-09-27</td>\n",
       "      <td>234.55</td>\n",
       "      <td>236.80</td>\n",
       "      <td>231.10</td>\n",
       "      <td>233.80</td>\n",
       "      <td>233.25</td>\n",
       "      <td>5082859</td>\n",
       "      <td>11859.95</td>\n",
       "    </tr>\n",
       "    <tr>\n",
       "      <th>2</th>\n",
       "      <td>2018-09-26</td>\n",
       "      <td>240.00</td>\n",
       "      <td>240.00</td>\n",
       "      <td>232.50</td>\n",
       "      <td>235.00</td>\n",
       "      <td>234.25</td>\n",
       "      <td>2240909</td>\n",
       "      <td>5248.60</td>\n",
       "    </tr>\n",
       "    <tr>\n",
       "      <th>3</th>\n",
       "      <td>2018-09-25</td>\n",
       "      <td>233.30</td>\n",
       "      <td>236.75</td>\n",
       "      <td>232.00</td>\n",
       "      <td>236.25</td>\n",
       "      <td>236.10</td>\n",
       "      <td>2349368</td>\n",
       "      <td>5503.90</td>\n",
       "    </tr>\n",
       "    <tr>\n",
       "      <th>4</th>\n",
       "      <td>2018-09-24</td>\n",
       "      <td>233.55</td>\n",
       "      <td>239.20</td>\n",
       "      <td>230.75</td>\n",
       "      <td>234.00</td>\n",
       "      <td>233.30</td>\n",
       "      <td>3423509</td>\n",
       "      <td>7999.55</td>\n",
       "    </tr>\n",
       "    <tr>\n",
       "      <th>...</th>\n",
       "      <td>...</td>\n",
       "      <td>...</td>\n",
       "      <td>...</td>\n",
       "      <td>...</td>\n",
       "      <td>...</td>\n",
       "      <td>...</td>\n",
       "      <td>...</td>\n",
       "      <td>...</td>\n",
       "    </tr>\n",
       "    <tr>\n",
       "      <th>2030</th>\n",
       "      <td>2010-07-27</td>\n",
       "      <td>117.60</td>\n",
       "      <td>119.50</td>\n",
       "      <td>112.00</td>\n",
       "      <td>118.80</td>\n",
       "      <td>118.65</td>\n",
       "      <td>586100</td>\n",
       "      <td>694.98</td>\n",
       "    </tr>\n",
       "    <tr>\n",
       "      <th>2031</th>\n",
       "      <td>2010-07-26</td>\n",
       "      <td>120.10</td>\n",
       "      <td>121.00</td>\n",
       "      <td>117.10</td>\n",
       "      <td>117.10</td>\n",
       "      <td>117.60</td>\n",
       "      <td>658440</td>\n",
       "      <td>780.01</td>\n",
       "    </tr>\n",
       "    <tr>\n",
       "      <th>2032</th>\n",
       "      <td>2010-07-23</td>\n",
       "      <td>121.80</td>\n",
       "      <td>121.95</td>\n",
       "      <td>120.25</td>\n",
       "      <td>120.35</td>\n",
       "      <td>120.65</td>\n",
       "      <td>281312</td>\n",
       "      <td>340.31</td>\n",
       "    </tr>\n",
       "    <tr>\n",
       "      <th>2033</th>\n",
       "      <td>2010-07-22</td>\n",
       "      <td>120.30</td>\n",
       "      <td>122.00</td>\n",
       "      <td>120.25</td>\n",
       "      <td>120.75</td>\n",
       "      <td>120.90</td>\n",
       "      <td>293312</td>\n",
       "      <td>355.17</td>\n",
       "    </tr>\n",
       "    <tr>\n",
       "      <th>2034</th>\n",
       "      <td>2010-07-21</td>\n",
       "      <td>122.10</td>\n",
       "      <td>123.00</td>\n",
       "      <td>121.05</td>\n",
       "      <td>121.10</td>\n",
       "      <td>121.55</td>\n",
       "      <td>658666</td>\n",
       "      <td>803.56</td>\n",
       "    </tr>\n",
       "  </tbody>\n",
       "</table>\n",
       "<p>2035 rows × 8 columns</p>\n",
       "</div>"
      ],
      "text/plain": [
       "            Date    Open    High     Low    Last   Close  \\\n",
       "0     2018-09-28  234.05  235.95  230.20  233.50  233.75   \n",
       "1     2018-09-27  234.55  236.80  231.10  233.80  233.25   \n",
       "2     2018-09-26  240.00  240.00  232.50  235.00  234.25   \n",
       "3     2018-09-25  233.30  236.75  232.00  236.25  236.10   \n",
       "4     2018-09-24  233.55  239.20  230.75  234.00  233.30   \n",
       "...          ...     ...     ...     ...     ...     ...   \n",
       "2030  2010-07-27  117.60  119.50  112.00  118.80  118.65   \n",
       "2031  2010-07-26  120.10  121.00  117.10  117.10  117.60   \n",
       "2032  2010-07-23  121.80  121.95  120.25  120.35  120.65   \n",
       "2033  2010-07-22  120.30  122.00  120.25  120.75  120.90   \n",
       "2034  2010-07-21  122.10  123.00  121.05  121.10  121.55   \n",
       "\n",
       "      Total Trade Quantity  Turnover (Lacs)  \n",
       "0                  3069914          7162.35  \n",
       "1                  5082859         11859.95  \n",
       "2                  2240909          5248.60  \n",
       "3                  2349368          5503.90  \n",
       "4                  3423509          7999.55  \n",
       "...                    ...              ...  \n",
       "2030                586100           694.98  \n",
       "2031                658440           780.01  \n",
       "2032                281312           340.31  \n",
       "2033                293312           355.17  \n",
       "2034                658666           803.56  \n",
       "\n",
       "[2035 rows x 8 columns]"
      ]
     },
     "execution_count": 4,
     "metadata": {},
     "output_type": "execute_result"
    }
   ],
   "source": [
    "data"
   ]
  },
  {
   "cell_type": "code",
   "execution_count": 5,
   "id": "f696d32b",
   "metadata": {},
   "outputs": [
    {
     "name": "stdout",
     "output_type": "stream",
     "text": [
      "<class 'pandas.core.frame.DataFrame'>\n",
      "RangeIndex: 2035 entries, 0 to 2034\n",
      "Data columns (total 8 columns):\n",
      " #   Column                Non-Null Count  Dtype  \n",
      "---  ------                --------------  -----  \n",
      " 0   Date                  2035 non-null   object \n",
      " 1   Open                  2035 non-null   float64\n",
      " 2   High                  2035 non-null   float64\n",
      " 3   Low                   2035 non-null   float64\n",
      " 4   Last                  2035 non-null   float64\n",
      " 5   Close                 2035 non-null   float64\n",
      " 6   Total Trade Quantity  2035 non-null   int64  \n",
      " 7   Turnover (Lacs)       2035 non-null   float64\n",
      "dtypes: float64(6), int64(1), object(1)\n",
      "memory usage: 127.3+ KB\n"
     ]
    }
   ],
   "source": [
    "data.info()"
   ]
  },
  {
   "cell_type": "code",
   "execution_count": 6,
   "id": "3e9ada4f",
   "metadata": {},
   "outputs": [
    {
     "data": {
      "text/html": [
       "<div>\n",
       "<style scoped>\n",
       "    .dataframe tbody tr th:only-of-type {\n",
       "        vertical-align: middle;\n",
       "    }\n",
       "\n",
       "    .dataframe tbody tr th {\n",
       "        vertical-align: top;\n",
       "    }\n",
       "\n",
       "    .dataframe thead th {\n",
       "        text-align: right;\n",
       "    }\n",
       "</style>\n",
       "<table border=\"1\" class=\"dataframe\">\n",
       "  <thead>\n",
       "    <tr style=\"text-align: right;\">\n",
       "      <th></th>\n",
       "      <th>Open</th>\n",
       "      <th>High</th>\n",
       "      <th>Low</th>\n",
       "      <th>Last</th>\n",
       "      <th>Close</th>\n",
       "      <th>Total Trade Quantity</th>\n",
       "      <th>Turnover (Lacs)</th>\n",
       "    </tr>\n",
       "  </thead>\n",
       "  <tbody>\n",
       "    <tr>\n",
       "      <th>count</th>\n",
       "      <td>2035.000000</td>\n",
       "      <td>2035.000000</td>\n",
       "      <td>2035.000000</td>\n",
       "      <td>2035.000000</td>\n",
       "      <td>2035.00000</td>\n",
       "      <td>2.035000e+03</td>\n",
       "      <td>2035.000000</td>\n",
       "    </tr>\n",
       "    <tr>\n",
       "      <th>mean</th>\n",
       "      <td>149.713735</td>\n",
       "      <td>151.992826</td>\n",
       "      <td>147.293931</td>\n",
       "      <td>149.474251</td>\n",
       "      <td>149.45027</td>\n",
       "      <td>2.335681e+06</td>\n",
       "      <td>3899.980565</td>\n",
       "    </tr>\n",
       "    <tr>\n",
       "      <th>std</th>\n",
       "      <td>48.664509</td>\n",
       "      <td>49.413109</td>\n",
       "      <td>47.931958</td>\n",
       "      <td>48.732570</td>\n",
       "      <td>48.71204</td>\n",
       "      <td>2.091778e+06</td>\n",
       "      <td>4570.767877</td>\n",
       "    </tr>\n",
       "    <tr>\n",
       "      <th>min</th>\n",
       "      <td>81.100000</td>\n",
       "      <td>82.800000</td>\n",
       "      <td>80.000000</td>\n",
       "      <td>81.000000</td>\n",
       "      <td>80.95000</td>\n",
       "      <td>3.961000e+04</td>\n",
       "      <td>37.040000</td>\n",
       "    </tr>\n",
       "    <tr>\n",
       "      <th>25%</th>\n",
       "      <td>120.025000</td>\n",
       "      <td>122.100000</td>\n",
       "      <td>118.300000</td>\n",
       "      <td>120.075000</td>\n",
       "      <td>120.05000</td>\n",
       "      <td>1.146444e+06</td>\n",
       "      <td>1427.460000</td>\n",
       "    </tr>\n",
       "    <tr>\n",
       "      <th>50%</th>\n",
       "      <td>141.500000</td>\n",
       "      <td>143.400000</td>\n",
       "      <td>139.600000</td>\n",
       "      <td>141.100000</td>\n",
       "      <td>141.25000</td>\n",
       "      <td>1.783456e+06</td>\n",
       "      <td>2512.030000</td>\n",
       "    </tr>\n",
       "    <tr>\n",
       "      <th>75%</th>\n",
       "      <td>157.175000</td>\n",
       "      <td>159.400000</td>\n",
       "      <td>155.150000</td>\n",
       "      <td>156.925000</td>\n",
       "      <td>156.90000</td>\n",
       "      <td>2.813594e+06</td>\n",
       "      <td>4539.015000</td>\n",
       "    </tr>\n",
       "    <tr>\n",
       "      <th>max</th>\n",
       "      <td>327.700000</td>\n",
       "      <td>328.750000</td>\n",
       "      <td>321.650000</td>\n",
       "      <td>325.950000</td>\n",
       "      <td>325.75000</td>\n",
       "      <td>2.919102e+07</td>\n",
       "      <td>55755.080000</td>\n",
       "    </tr>\n",
       "  </tbody>\n",
       "</table>\n",
       "</div>"
      ],
      "text/plain": [
       "              Open         High          Low         Last       Close  \\\n",
       "count  2035.000000  2035.000000  2035.000000  2035.000000  2035.00000   \n",
       "mean    149.713735   151.992826   147.293931   149.474251   149.45027   \n",
       "std      48.664509    49.413109    47.931958    48.732570    48.71204   \n",
       "min      81.100000    82.800000    80.000000    81.000000    80.95000   \n",
       "25%     120.025000   122.100000   118.300000   120.075000   120.05000   \n",
       "50%     141.500000   143.400000   139.600000   141.100000   141.25000   \n",
       "75%     157.175000   159.400000   155.150000   156.925000   156.90000   \n",
       "max     327.700000   328.750000   321.650000   325.950000   325.75000   \n",
       "\n",
       "       Total Trade Quantity  Turnover (Lacs)  \n",
       "count          2.035000e+03      2035.000000  \n",
       "mean           2.335681e+06      3899.980565  \n",
       "std            2.091778e+06      4570.767877  \n",
       "min            3.961000e+04        37.040000  \n",
       "25%            1.146444e+06      1427.460000  \n",
       "50%            1.783456e+06      2512.030000  \n",
       "75%            2.813594e+06      4539.015000  \n",
       "max            2.919102e+07     55755.080000  "
      ]
     },
     "execution_count": 6,
     "metadata": {},
     "output_type": "execute_result"
    }
   ],
   "source": [
    "data.describe()"
   ]
  },
  {
   "cell_type": "code",
   "execution_count": 7,
   "id": "d0d35413",
   "metadata": {},
   "outputs": [
    {
     "data": {
      "text/plain": [
       "Date                    0\n",
       "Open                    0\n",
       "High                    0\n",
       "Low                     0\n",
       "Last                    0\n",
       "Close                   0\n",
       "Total Trade Quantity    0\n",
       "Turnover (Lacs)         0\n",
       "dtype: int64"
      ]
     },
     "execution_count": 7,
     "metadata": {},
     "output_type": "execute_result"
    }
   ],
   "source": [
    "data.isnull().sum()\n"
   ]
  },
  {
   "cell_type": "code",
   "execution_count": 8,
   "id": "f294165f",
   "metadata": {},
   "outputs": [
    {
     "data": {
      "image/png": "[encoded data removed]",
      "text/plain": [
       "<Figure size 640x480 with 9 Axes>"
      ]
     },
     "metadata": {},
     "output_type": "display_data"
    }
   ],
   "source": [
    "data.hist()\n",
    "sns.set(rc={'figure.figsize':(20,7)})"
   ]
  },
  {
   "cell_type": "code",
   "execution_count": 9,
   "id": "9c0ce18d",
   "metadata": {},
   "outputs": [
    {
     "data": {
      "text/html": [
       "<div>\n",
       "<style scoped>\n",
       "    .dataframe tbody tr th:only-of-type {\n",
       "        vertical-align: middle;\n",
       "    }\n",
       "\n",
       "    .dataframe tbody tr th {\n",
       "        vertical-align: top;\n",
       "    }\n",
       "\n",
       "    .dataframe thead th {\n",
       "        text-align: right;\n",
       "    }\n",
       "</style>\n",
       "<table border=\"1\" class=\"dataframe\">\n",
       "  <thead>\n",
       "    <tr style=\"text-align: right;\">\n",
       "      <th></th>\n",
       "      <th>Date</th>\n",
       "      <th>Open</th>\n",
       "      <th>High</th>\n",
       "      <th>Low</th>\n",
       "      <th>Last</th>\n",
       "      <th>Close</th>\n",
       "      <th>Total Trade Quantity</th>\n",
       "      <th>Turnover (Lacs)</th>\n",
       "    </tr>\n",
       "  </thead>\n",
       "  <tbody>\n",
       "    <tr>\n",
       "      <th>0</th>\n",
       "      <td>2018-09-28</td>\n",
       "      <td>234.05</td>\n",
       "      <td>235.95</td>\n",
       "      <td>230.20</td>\n",
       "      <td>233.50</td>\n",
       "      <td>233.75</td>\n",
       "      <td>3069914</td>\n",
       "      <td>7162.35</td>\n",
       "    </tr>\n",
       "    <tr>\n",
       "      <th>1</th>\n",
       "      <td>2018-09-27</td>\n",
       "      <td>234.55</td>\n",
       "      <td>236.80</td>\n",
       "      <td>231.10</td>\n",
       "      <td>233.80</td>\n",
       "      <td>233.25</td>\n",
       "      <td>5082859</td>\n",
       "      <td>11859.95</td>\n",
       "    </tr>\n",
       "    <tr>\n",
       "      <th>2</th>\n",
       "      <td>2018-09-26</td>\n",
       "      <td>240.00</td>\n",
       "      <td>240.00</td>\n",
       "      <td>232.50</td>\n",
       "      <td>235.00</td>\n",
       "      <td>234.25</td>\n",
       "      <td>2240909</td>\n",
       "      <td>5248.60</td>\n",
       "    </tr>\n",
       "    <tr>\n",
       "      <th>3</th>\n",
       "      <td>2018-09-25</td>\n",
       "      <td>233.30</td>\n",
       "      <td>236.75</td>\n",
       "      <td>232.00</td>\n",
       "      <td>236.25</td>\n",
       "      <td>236.10</td>\n",
       "      <td>2349368</td>\n",
       "      <td>5503.90</td>\n",
       "    </tr>\n",
       "    <tr>\n",
       "      <th>4</th>\n",
       "      <td>2018-09-24</td>\n",
       "      <td>233.55</td>\n",
       "      <td>239.20</td>\n",
       "      <td>230.75</td>\n",
       "      <td>234.00</td>\n",
       "      <td>233.30</td>\n",
       "      <td>3423509</td>\n",
       "      <td>7999.55</td>\n",
       "    </tr>\n",
       "  </tbody>\n",
       "</table>\n",
       "</div>"
      ],
      "text/plain": [
       "         Date    Open    High     Low    Last   Close  Total Trade Quantity  \\\n",
       "0  2018-09-28  234.05  235.95  230.20  233.50  233.75               3069914   \n",
       "1  2018-09-27  234.55  236.80  231.10  233.80  233.25               5082859   \n",
       "2  2018-09-26  240.00  240.00  232.50  235.00  234.25               2240909   \n",
       "3  2018-09-25  233.30  236.75  232.00  236.25  236.10               2349368   \n",
       "4  2018-09-24  233.55  239.20  230.75  234.00  233.30               3423509   \n",
       "\n",
       "   Turnover (Lacs)  \n",
       "0          7162.35  \n",
       "1         11859.95  \n",
       "2          5248.60  \n",
       "3          5503.90  \n",
       "4          7999.55  "
      ]
     },
     "execution_count": 9,
     "metadata": {},
     "output_type": "execute_result"
    }
   ],
   "source": [
    "data.head()"
   ]
  },
  {
   "cell_type": "code",
   "execution_count": 11,
   "id": "ef66846d",
   "metadata": {},
   "outputs": [],
   "source": [
    "srt=data.sort_values(by ='Date')"
   ]
  },
  {
   "cell_type": "code",
   "execution_count": 12,
   "id": "0edca2a1",
   "metadata": {},
   "outputs": [
    {
     "data": {
      "text/html": [
       "<div>\n",
       "<style scoped>\n",
       "    .dataframe tbody tr th:only-of-type {\n",
       "        vertical-align: middle;\n",
       "    }\n",
       "\n",
       "    .dataframe tbody tr th {\n",
       "        vertical-align: top;\n",
       "    }\n",
       "\n",
       "    .dataframe thead th {\n",
       "        text-align: right;\n",
       "    }\n",
       "</style>\n",
       "<table border=\"1\" class=\"dataframe\">\n",
       "  <thead>\n",
       "    <tr style=\"text-align: right;\">\n",
       "      <th></th>\n",
       "      <th>Date</th>\n",
       "      <th>Open</th>\n",
       "      <th>High</th>\n",
       "      <th>Low</th>\n",
       "      <th>Last</th>\n",
       "      <th>Close</th>\n",
       "      <th>Total Trade Quantity</th>\n",
       "      <th>Turnover (Lacs)</th>\n",
       "    </tr>\n",
       "  </thead>\n",
       "  <tbody>\n",
       "    <tr>\n",
       "      <th>2034</th>\n",
       "      <td>2010-07-21</td>\n",
       "      <td>122.1</td>\n",
       "      <td>123.00</td>\n",
       "      <td>121.05</td>\n",
       "      <td>121.10</td>\n",
       "      <td>121.55</td>\n",
       "      <td>658666</td>\n",
       "      <td>803.56</td>\n",
       "    </tr>\n",
       "    <tr>\n",
       "      <th>2033</th>\n",
       "      <td>2010-07-22</td>\n",
       "      <td>120.3</td>\n",
       "      <td>122.00</td>\n",
       "      <td>120.25</td>\n",
       "      <td>120.75</td>\n",
       "      <td>120.90</td>\n",
       "      <td>293312</td>\n",
       "      <td>355.17</td>\n",
       "    </tr>\n",
       "    <tr>\n",
       "      <th>2032</th>\n",
       "      <td>2010-07-23</td>\n",
       "      <td>121.8</td>\n",
       "      <td>121.95</td>\n",
       "      <td>120.25</td>\n",
       "      <td>120.35</td>\n",
       "      <td>120.65</td>\n",
       "      <td>281312</td>\n",
       "      <td>340.31</td>\n",
       "    </tr>\n",
       "    <tr>\n",
       "      <th>2031</th>\n",
       "      <td>2010-07-26</td>\n",
       "      <td>120.1</td>\n",
       "      <td>121.00</td>\n",
       "      <td>117.10</td>\n",
       "      <td>117.10</td>\n",
       "      <td>117.60</td>\n",
       "      <td>658440</td>\n",
       "      <td>780.01</td>\n",
       "    </tr>\n",
       "    <tr>\n",
       "      <th>2030</th>\n",
       "      <td>2010-07-27</td>\n",
       "      <td>117.6</td>\n",
       "      <td>119.50</td>\n",
       "      <td>112.00</td>\n",
       "      <td>118.80</td>\n",
       "      <td>118.65</td>\n",
       "      <td>586100</td>\n",
       "      <td>694.98</td>\n",
       "    </tr>\n",
       "  </tbody>\n",
       "</table>\n",
       "</div>"
      ],
      "text/plain": [
       "            Date   Open    High     Low    Last   Close  Total Trade Quantity  \\\n",
       "2034  2010-07-21  122.1  123.00  121.05  121.10  121.55                658666   \n",
       "2033  2010-07-22  120.3  122.00  120.25  120.75  120.90                293312   \n",
       "2032  2010-07-23  121.8  121.95  120.25  120.35  120.65                281312   \n",
       "2031  2010-07-26  120.1  121.00  117.10  117.10  117.60                658440   \n",
       "2030  2010-07-27  117.6  119.50  112.00  118.80  118.65                586100   \n",
       "\n",
       "      Turnover (Lacs)  \n",
       "2034           803.56  \n",
       "2033           355.17  \n",
       "2032           340.31  \n",
       "2031           780.01  \n",
       "2030           694.98  "
      ]
     },
     "execution_count": 12,
     "metadata": {},
     "output_type": "execute_result"
    }
   ],
   "source": [
    "srt.head()"
   ]
  },
  {
   "cell_type": "code",
   "execution_count": 14,
   "id": "c00b5c8a",
   "metadata": {},
   "outputs": [
    {
     "data": {
      "text/plain": [
       "2034   2010-07-21\n",
       "2033   2010-07-22\n",
       "2032   2010-07-23\n",
       "2031   2010-07-26\n",
       "2030   2010-07-27\n",
       "          ...    \n",
       "4      2018-09-24\n",
       "3      2018-09-25\n",
       "2      2018-09-26\n",
       "1      2018-09-27\n",
       "0      2018-09-28\n",
       "Name: Date, Length: 2035, dtype: datetime64[ns]"
      ]
     },
     "execution_count": 14,
     "metadata": {},
     "output_type": "execute_result"
    }
   ],
   "source": [
    "pd.to_datetime(srt['Date'])"
   ]
  },
  {
   "cell_type": "code",
   "execution_count": 15,
   "id": "6627f23f",
   "metadata": {},
   "outputs": [
    {
     "name": "stdout",
     "output_type": "stream",
     "text": [
      "<class 'pandas.core.frame.DataFrame'>\n",
      "Index: 2035 entries, 2034 to 0\n",
      "Data columns (total 8 columns):\n",
      " #   Column                Non-Null Count  Dtype  \n",
      "---  ------                --------------  -----  \n",
      " 0   Date                  2035 non-null   object \n",
      " 1   Open                  2035 non-null   float64\n",
      " 2   High                  2035 non-null   float64\n",
      " 3   Low                   2035 non-null   float64\n",
      " 4   Last                  2035 non-null   float64\n",
      " 5   Close                 2035 non-null   float64\n",
      " 6   Total Trade Quantity  2035 non-null   int64  \n",
      " 7   Turnover (Lacs)       2035 non-null   float64\n",
      "dtypes: float64(6), int64(1), object(1)\n",
      "memory usage: 143.1+ KB\n"
     ]
    }
   ],
   "source": [
    "srt.info()"
   ]
  },
  {
   "cell_type": "code",
   "execution_count": 16,
   "id": "618ff009",
   "metadata": {},
   "outputs": [],
   "source": [
    "srt.reset_index(inplace=True)"
   ]
  },
  {
   "cell_type": "code",
   "execution_count": 17,
   "id": "d56d60aa",
   "metadata": {},
   "outputs": [
    {
     "data": {
      "text/html": [
       "<div>\n",
       "<style scoped>\n",
       "    .dataframe tbody tr th:only-of-type {\n",
       "        vertical-align: middle;\n",
       "    }\n",
       "\n",
       "    .dataframe tbody tr th {\n",
       "        vertical-align: top;\n",
       "    }\n",
       "\n",
       "    .dataframe thead th {\n",
       "        text-align: right;\n",
       "    }\n",
       "</style>\n",
       "<table border=\"1\" class=\"dataframe\">\n",
       "  <thead>\n",
       "    <tr style=\"text-align: right;\">\n",
       "      <th></th>\n",
       "      <th>index</th>\n",
       "      <th>Date</th>\n",
       "      <th>Open</th>\n",
       "      <th>High</th>\n",
       "      <th>Low</th>\n",
       "      <th>Last</th>\n",
       "      <th>Close</th>\n",
       "      <th>Total Trade Quantity</th>\n",
       "      <th>Turnover (Lacs)</th>\n",
       "    </tr>\n",
       "  </thead>\n",
       "  <tbody>\n",
       "    <tr>\n",
       "      <th>0</th>\n",
       "      <td>2034</td>\n",
       "      <td>2010-07-21</td>\n",
       "      <td>122.1</td>\n",
       "      <td>123.00</td>\n",
       "      <td>121.05</td>\n",
       "      <td>121.10</td>\n",
       "      <td>121.55</td>\n",
       "      <td>658666</td>\n",
       "      <td>803.56</td>\n",
       "    </tr>\n",
       "    <tr>\n",
       "      <th>1</th>\n",
       "      <td>2033</td>\n",
       "      <td>2010-07-22</td>\n",
       "      <td>120.3</td>\n",
       "      <td>122.00</td>\n",
       "      <td>120.25</td>\n",
       "      <td>120.75</td>\n",
       "      <td>120.90</td>\n",
       "      <td>293312</td>\n",
       "      <td>355.17</td>\n",
       "    </tr>\n",
       "    <tr>\n",
       "      <th>2</th>\n",
       "      <td>2032</td>\n",
       "      <td>2010-07-23</td>\n",
       "      <td>121.8</td>\n",
       "      <td>121.95</td>\n",
       "      <td>120.25</td>\n",
       "      <td>120.35</td>\n",
       "      <td>120.65</td>\n",
       "      <td>281312</td>\n",
       "      <td>340.31</td>\n",
       "    </tr>\n",
       "    <tr>\n",
       "      <th>3</th>\n",
       "      <td>2031</td>\n",
       "      <td>2010-07-26</td>\n",
       "      <td>120.1</td>\n",
       "      <td>121.00</td>\n",
       "      <td>117.10</td>\n",
       "      <td>117.10</td>\n",
       "      <td>117.60</td>\n",
       "      <td>658440</td>\n",
       "      <td>780.01</td>\n",
       "    </tr>\n",
       "    <tr>\n",
       "      <th>4</th>\n",
       "      <td>2030</td>\n",
       "      <td>2010-07-27</td>\n",
       "      <td>117.6</td>\n",
       "      <td>119.50</td>\n",
       "      <td>112.00</td>\n",
       "      <td>118.80</td>\n",
       "      <td>118.65</td>\n",
       "      <td>586100</td>\n",
       "      <td>694.98</td>\n",
       "    </tr>\n",
       "  </tbody>\n",
       "</table>\n",
       "</div>"
      ],
      "text/plain": [
       "   index        Date   Open    High     Low    Last   Close  \\\n",
       "0   2034  2010-07-21  122.1  123.00  121.05  121.10  121.55   \n",
       "1   2033  2010-07-22  120.3  122.00  120.25  120.75  120.90   \n",
       "2   2032  2010-07-23  121.8  121.95  120.25  120.35  120.65   \n",
       "3   2031  2010-07-26  120.1  121.00  117.10  117.10  117.60   \n",
       "4   2030  2010-07-27  117.6  119.50  112.00  118.80  118.65   \n",
       "\n",
       "   Total Trade Quantity  Turnover (Lacs)  \n",
       "0                658666           803.56  \n",
       "1                293312           355.17  \n",
       "2                281312           340.31  \n",
       "3                658440           780.01  \n",
       "4                586100           694.98  "
      ]
     },
     "execution_count": 17,
     "metadata": {},
     "output_type": "execute_result"
    }
   ],
   "source": [
    "srt.head()"
   ]
  },
  {
   "cell_type": "code",
   "execution_count": 18,
   "id": "7033df9a",
   "metadata": {},
   "outputs": [
    {
     "data": {
      "text/plain": [
       "(2035, 9)"
      ]
     },
     "execution_count": 18,
     "metadata": {},
     "output_type": "execute_result"
    }
   ],
   "source": [
    "srt.shape"
   ]
  },
  {
   "cell_type": "code",
   "execution_count": 22,
   "id": "981d03d4",
   "metadata": {},
   "outputs": [
    {
     "data": {
      "text/plain": [
       "[<matplotlib.lines.Line2D at 0x1d3797a3050>]"
      ]
     },
     "execution_count": 22,
     "metadata": {},
     "output_type": "execute_result"
    },
    {
     "data": {
      "image/png": "[encoded data removed]",
      "text/plain": [
       "<Figure size 2000x500 with 1 Axes>"
      ]
     },
     "metadata": {},
     "output_type": "display_data"
    }
   ],
   "source": [
    "plt.figure(figsize=(20,5))\n",
    "plt.plot(data['Date'],data['Close'])"
   ]
  },
  {
   "cell_type": "code",
   "execution_count": 23,
   "id": "eee83a7f",
   "metadata": {},
   "outputs": [
    {
     "data": {
      "text/plain": [
       "index                   0\n",
       "Date                    0\n",
       "Open                    0\n",
       "High                    0\n",
       "Low                     0\n",
       "Last                    0\n",
       "Close                   0\n",
       "Total Trade Quantity    0\n",
       "Turnover (Lacs)         0\n",
       "dtype: int64"
      ]
     },
     "execution_count": 23,
     "metadata": {},
     "output_type": "execute_result"
    }
   ],
   "source": [
    "srt.isnull().sum()"
   ]
  },
  {
   "cell_type": "code",
   "execution_count": 25,
   "id": "f843b4fe",
   "metadata": {},
   "outputs": [
    {
     "data": {
      "text/plain": [
       "0       121.55\n",
       "1       120.90\n",
       "2       120.65\n",
       "3       117.60\n",
       "4       118.65\n",
       "         ...  \n",
       "2030    233.30\n",
       "2031    236.10\n",
       "2032    234.25\n",
       "2033    233.25\n",
       "2034    233.75\n",
       "Name: Close, Length: 2035, dtype: float64"
      ]
     },
     "execution_count": 25,
     "metadata": {},
     "output_type": "execute_result"
    }
   ],
   "source": [
    "close_srt=srt['Close']\n",
    "close_srt"
   ]
  },
  {
   "cell_type": "code",
   "execution_count": 26,
   "id": "f1f18dfd",
   "metadata": {},
   "outputs": [
    {
     "data": {
      "text/plain": [
       "[<matplotlib.lines.Line2D at 0x1d37c6ddb90>]"
      ]
     },
     "execution_count": 26,
     "metadata": {},
     "output_type": "execute_result"
    },
    {
     "data": {
      "image/png": "[encoded data removed]",
      "text/plain": [
       "<Figure size 2000x700 with 1 Axes>"
      ]
     },
     "metadata": {},
     "output_type": "display_data"
    }
   ],
   "source": [
    "plt.plot(close_srt)"
   ]
  },
  {
   "cell_type": "markdown",
   "id": "327f1c16",
   "metadata": {},
   "source": [
    "# Feature Scaling (MinMax Scaler)"
   ]
  },
  {
   "cell_type": "code",
   "execution_count": 27,
   "id": "01cbd660",
   "metadata": {},
   "outputs": [],
   "source": [
    "from sklearn.preprocessing import MinMaxScaler"
   ]
  },
  {
   "cell_type": "code",
   "execution_count": 28,
   "id": "84b967d7",
   "metadata": {},
   "outputs": [
    {
     "data": {
      "text/plain": [
       "array([[0.16584967],\n",
       "       [0.16319444],\n",
       "       [0.1621732 ],\n",
       "       ...,\n",
       "       [0.62622549],\n",
       "       [0.62214052],\n",
       "       [0.62418301]])"
      ]
     },
     "execution_count": 28,
     "metadata": {},
     "output_type": "execute_result"
    }
   ],
   "source": [
    "scaler = MinMaxScaler(feature_range=(0,1))\n",
    "close_srt=scaler.fit_transform(np.array(close_srt).reshape(-1,1))\n",
    "close_srt"
   ]
  },
  {
   "cell_type": "markdown",
   "id": "512cdb59",
   "metadata": {},
   "source": [
    "# Splitting the dataset"
   ]
  },
  {
   "cell_type": "code",
   "execution_count": 29,
   "id": "097d51f3",
   "metadata": {},
   "outputs": [],
   "source": [
    "train_size=int(len(close_srt)*0.7)\n",
    "test_size=len(close_srt)-train_size\n",
    "train_data,test_data=close_srt[0:train_size,:],close_srt[train_size:len(close_srt),:1]"
   ]
  },
  {
   "cell_type": "code",
   "execution_count": 30,
   "id": "3b365c58",
   "metadata": {},
   "outputs": [
    {
     "data": {
      "text/plain": [
       "(1424, 1)"
      ]
     },
     "execution_count": 30,
     "metadata": {},
     "output_type": "execute_result"
    }
   ],
   "source": [
    "train_data.shape"
   ]
  },
  {
   "cell_type": "code",
   "execution_count": 31,
   "id": "fb13d012",
   "metadata": {},
   "outputs": [
    {
     "data": {
      "text/plain": [
       "(611, 1)"
      ]
     },
     "execution_count": 31,
     "metadata": {},
     "output_type": "execute_result"
    }
   ],
   "source": [
    "test_data.shape"
   ]
  },
  {
   "cell_type": "markdown",
   "id": "9d2987c3",
   "metadata": {},
   "source": [
    "# Convert array of values into a dataset matrix"
   ]
  },
  {
   "cell_type": "code",
   "execution_count": 32,
   "id": "6a580dc9",
   "metadata": {},
   "outputs": [],
   "source": [
    "def create_dataset (dataset ,time_step=1):\n",
    "    dataX ,dataY =[],[]\n",
    "    for i in range (len(dataset)-time_step-1):\n",
    "        a =dataset [i:(i+time_step),0]\n",
    "        dataX.append(a)\n",
    "        dataY.append(dataset[i+time_step,0])\n",
    "    return np.array(dataX),np.array(dataY)"
   ]
  },
  {
   "cell_type": "markdown",
   "id": "2697fcb5",
   "metadata": {},
   "source": [
    "# Reshaping of dataset"
   ]
  },
  {
   "cell_type": "code",
   "execution_count": 33,
   "id": "bf86062c",
   "metadata": {},
   "outputs": [],
   "source": [
    "time_step=100\n",
    "X_train,y_train=create_dataset(train_data ,time_step)\n",
    "X_test,y_test=create_dataset(test_data, time_step)"
   ]
  },
  {
   "cell_type": "code",
   "execution_count": 34,
   "id": "c66d41c7",
   "metadata": {},
   "outputs": [
    {
     "name": "stdout",
     "output_type": "stream",
     "text": [
      "(1323, 100)\n",
      "(1323,)\n"
     ]
    },
    {
     "data": {
      "text/plain": [
       "(None, None)"
      ]
     },
     "execution_count": 34,
     "metadata": {},
     "output_type": "execute_result"
    }
   ],
   "source": [
    "print(X_train.shape),print(y_train.shape)"
   ]
  },
  {
   "cell_type": "code",
   "execution_count": 35,
   "id": "51fd0ebc",
   "metadata": {},
   "outputs": [
    {
     "name": "stdout",
     "output_type": "stream",
     "text": [
      "(510, 100)\n",
      "(510,)\n"
     ]
    },
    {
     "data": {
      "text/plain": [
       "(None, None)"
      ]
     },
     "execution_count": 35,
     "metadata": {},
     "output_type": "execute_result"
    }
   ],
   "source": [
    "print(X_test.shape) , print(y_test.shape)"
   ]
  },
  {
   "cell_type": "code",
   "execution_count": 36,
   "id": "ac425b16",
   "metadata": {},
   "outputs": [
    {
     "data": {
      "text/plain": [
       "array([[[0.16584967],\n",
       "        [0.16319444],\n",
       "        [0.1621732 ],\n",
       "        ...,\n",
       "        [0.14011438],\n",
       "        [0.13848039],\n",
       "        [0.12479575]],\n",
       "\n",
       "       [[0.16319444],\n",
       "        [0.1621732 ],\n",
       "        [0.14971405],\n",
       "        ...,\n",
       "        [0.13848039],\n",
       "        [0.12479575],\n",
       "        [0.12254902]],\n",
       "\n",
       "       [[0.1621732 ],\n",
       "        [0.14971405],\n",
       "        [0.15400327],\n",
       "        ...,\n",
       "        [0.12479575],\n",
       "        [0.12254902],\n",
       "        [0.13010621]],\n",
       "\n",
       "       ...,\n",
       "\n",
       "       [[0.18280229],\n",
       "        [0.19178922],\n",
       "        [0.19219771],\n",
       "        ...,\n",
       "        [0.16441993],\n",
       "        [0.15236928],\n",
       "        [0.15482026]],\n",
       "\n",
       "       [[0.19178922],\n",
       "        [0.19219771],\n",
       "        [0.19281046],\n",
       "        ...,\n",
       "        [0.15236928],\n",
       "        [0.15482026],\n",
       "        [0.15420752]],\n",
       "\n",
       "       [[0.19219771],\n",
       "        [0.19281046],\n",
       "        [0.21058007],\n",
       "        ...,\n",
       "        [0.15482026],\n",
       "        [0.15420752],\n",
       "        [0.15012255]]])"
      ]
     },
     "execution_count": 36,
     "metadata": {},
     "output_type": "execute_result"
    }
   ],
   "source": [
    "X_train=X_train.reshape(X_train.shape[0],X_train.shape[1] , 1)\n",
    "X_test = X_test.reshape(X_test.shape[0],X_test.shape[1] , 1)\n",
    "X_train"
   ]
  },
  {
   "cell_type": "code",
   "execution_count": 37,
   "id": "f8fb49d7",
   "metadata": {},
   "outputs": [
    {
     "data": {
      "text/plain": [
       "array([[[0.1621732 ],\n",
       "        [0.15951797],\n",
       "        [0.16707516],\n",
       "        ...,\n",
       "        [0.24775327],\n",
       "        [0.24836601],\n",
       "        [0.25020425]],\n",
       "\n",
       "       [[0.15951797],\n",
       "        [0.16707516],\n",
       "        [0.15992647],\n",
       "        ...,\n",
       "        [0.24836601],\n",
       "        [0.25020425],\n",
       "        [0.25020425]],\n",
       "\n",
       "       [[0.16707516],\n",
       "        [0.15992647],\n",
       "        [0.16053922],\n",
       "        ...,\n",
       "        [0.25020425],\n",
       "        [0.25020425],\n",
       "        [0.23999183]],\n",
       "\n",
       "       ...,\n",
       "\n",
       "       [[0.86519608],\n",
       "        [0.84027778],\n",
       "        [0.84497549],\n",
       "        ...,\n",
       "        [0.62888072],\n",
       "        [0.62765523],\n",
       "        [0.62234477]],\n",
       "\n",
       "       [[0.84027778],\n",
       "        [0.84497549],\n",
       "        [0.87111928],\n",
       "        ...,\n",
       "        [0.62765523],\n",
       "        [0.62234477],\n",
       "        [0.63378268]],\n",
       "\n",
       "       [[0.84497549],\n",
       "        [0.87111928],\n",
       "        [0.85273693],\n",
       "        ...,\n",
       "        [0.62234477],\n",
       "        [0.63378268],\n",
       "        [0.62622549]]])"
      ]
     },
     "execution_count": 37,
     "metadata": {},
     "output_type": "execute_result"
    }
   ],
   "source": [
    "X_test"
   ]
  },
  {
   "cell_type": "markdown",
   "id": "25f3b0fc",
   "metadata": {},
   "source": [
    "# Creating the stacked LSTM Model"
   ]
  },
  {
   "cell_type": "code",
   "execution_count": 38,
   "id": "2402f596",
   "metadata": {},
   "outputs": [],
   "source": [
    "from tensorflow.keras.layers import Dense\n",
    "from tensorflow.keras.layers import LSTM\n",
    "from tensorflow.keras.models import Sequential"
   ]
  },
  {
   "cell_type": "code",
   "execution_count": 39,
   "id": "cb65b811",
   "metadata": {},
   "outputs": [
    {
     "name": "stdout",
     "output_type": "stream",
     "text": [
      "Model: \"sequential\"\n",
      "_________________________________________________________________\n",
      " Layer (type)                Output Shape              Param #   \n",
      "=================================================================\n",
      " lstm (LSTM)                 (None, 100, 50)           10400     \n",
      "                                                                 \n",
      " lstm_1 (LSTM)               (None, 100, 50)           20200     \n",
      "                                                                 \n",
      " lstm_2 (LSTM)               (None, 50)                20200     \n",
      "                                                                 \n",
      " dense (Dense)               (None, 1)                 51        \n",
      "                                                                 \n",
      "=================================================================\n",
      "Total params: 50851 (198.64 KB)\n",
      "Trainable params: 50851 (198.64 KB)\n",
      "Non-trainable params: 0 (0.00 Byte)\n",
      "_________________________________________________________________\n"
     ]
    }
   ],
   "source": [
    "model = Sequential()\n",
    "model.add(LSTM(50,return_sequences=True,input_shape=(100,1)))\n",
    "model.add(LSTM(50,return_sequences=True))\n",
    "model.add(LSTM(50))\n",
    "model.add(Dense(1))\n",
    "model.compile(loss='mean_squared_error',optimizer='adam')\n",
    "\n",
    "model.summary()"
   ]
  },
  {
   "cell_type": "code",
   "execution_count": 40,
   "id": "1534da4f",
   "metadata": {},
   "outputs": [
    {
     "name": "stdout",
     "output_type": "stream",
     "text": [
      "Epoch 1/60\n",
      "19/19 [==============================] - 9s 220ms/step - loss: 0.0103 - val_loss: 0.0012\n",
      "Epoch 2/60\n",
      "19/19 [==============================] - 3s 159ms/step - loss: 0.0020 - val_loss: 0.0014\n",
      "Epoch 3/60\n",
      "19/19 [==============================] - 3s 161ms/step - loss: 9.4103e-04 - val_loss: 0.0012\n",
      "Epoch 4/60\n",
      "19/19 [==============================] - 3s 160ms/step - loss: 8.1819e-04 - val_loss: 0.0011\n",
      "Epoch 5/60\n",
      "19/19 [==============================] - 3s 159ms/step - loss: 7.9702e-04 - val_loss: 0.0011\n",
      "Epoch 6/60\n",
      "19/19 [==============================] - 3s 160ms/step - loss: 7.7976e-04 - val_loss: 0.0010\n",
      "Epoch 7/60\n",
      "19/19 [==============================] - 3s 158ms/step - loss: 7.4965e-04 - val_loss: 0.0010\n",
      "Epoch 8/60\n",
      "19/19 [==============================] - 3s 169ms/step - loss: 7.4839e-04 - val_loss: 9.3592e-04\n",
      "Epoch 9/60\n",
      "19/19 [==============================] - 3s 145ms/step - loss: 7.1369e-04 - val_loss: 0.0010\n",
      "Epoch 10/60\n",
      "19/19 [==============================] - 3s 142ms/step - loss: 7.1104e-04 - val_loss: 9.2576e-04\n",
      "Epoch 11/60\n",
      "19/19 [==============================] - 3s 141ms/step - loss: 6.7156e-04 - val_loss: 8.2670e-04\n",
      "Epoch 12/60\n",
      "19/19 [==============================] - 3s 139ms/step - loss: 6.5157e-04 - val_loss: 7.7541e-04\n",
      "Epoch 13/60\n",
      "19/19 [==============================] - 3s 141ms/step - loss: 6.3610e-04 - val_loss: 7.5173e-04\n",
      "Epoch 14/60\n",
      "19/19 [==============================] - 3s 141ms/step - loss: 6.3581e-04 - val_loss: 7.3755e-04\n",
      "Epoch 15/60\n",
      "19/19 [==============================] - 3s 141ms/step - loss: 5.9931e-04 - val_loss: 6.9030e-04\n",
      "Epoch 16/60\n",
      "19/19 [==============================] - 3s 141ms/step - loss: 5.8765e-04 - val_loss: 6.5435e-04\n",
      "Epoch 17/60\n",
      "19/19 [==============================] - 3s 136ms/step - loss: 5.8569e-04 - val_loss: 6.6126e-04\n",
      "Epoch 18/60\n",
      "19/19 [==============================] - 3s 141ms/step - loss: 5.6114e-04 - val_loss: 5.9874e-04\n",
      "Epoch 19/60\n",
      "19/19 [==============================] - 3s 141ms/step - loss: 5.2183e-04 - val_loss: 6.3458e-04\n",
      "Epoch 20/60\n",
      "19/19 [==============================] - 3s 138ms/step - loss: 5.3975e-04 - val_loss: 5.6048e-04\n",
      "Epoch 21/60\n",
      "19/19 [==============================] - 3s 140ms/step - loss: 5.2360e-04 - val_loss: 5.5889e-04\n",
      "Epoch 22/60\n",
      "19/19 [==============================] - 3s 139ms/step - loss: 4.8879e-04 - val_loss: 5.2176e-04\n",
      "Epoch 23/60\n",
      "19/19 [==============================] - 3s 140ms/step - loss: 4.8277e-04 - val_loss: 5.0683e-04\n",
      "Epoch 24/60\n",
      "19/19 [==============================] - 3s 139ms/step - loss: 4.5285e-04 - val_loss: 4.8147e-04\n",
      "Epoch 25/60\n",
      "19/19 [==============================] - 3s 141ms/step - loss: 4.4315e-04 - val_loss: 5.7575e-04\n",
      "Epoch 26/60\n",
      "19/19 [==============================] - 3s 141ms/step - loss: 4.4539e-04 - val_loss: 4.3188e-04\n",
      "Epoch 27/60\n",
      "19/19 [==============================] - 3s 142ms/step - loss: 4.2663e-04 - val_loss: 4.6158e-04\n",
      "Epoch 28/60\n",
      "19/19 [==============================] - 3s 140ms/step - loss: 4.3125e-04 - val_loss: 4.3665e-04\n",
      "Epoch 29/60\n",
      "19/19 [==============================] - 3s 140ms/step - loss: 4.0125e-04 - val_loss: 4.3755e-04\n",
      "Epoch 30/60\n",
      "19/19 [==============================] - 3s 139ms/step - loss: 3.7222e-04 - val_loss: 3.9148e-04\n",
      "Epoch 31/60\n",
      "19/19 [==============================] - 3s 142ms/step - loss: 3.6862e-04 - val_loss: 4.0166e-04\n",
      "Epoch 32/60\n",
      "19/19 [==============================] - 3s 139ms/step - loss: 3.6313e-04 - val_loss: 3.8150e-04\n",
      "Epoch 33/60\n",
      "19/19 [==============================] - 3s 141ms/step - loss: 3.4032e-04 - val_loss: 3.0488e-04\n",
      "Epoch 34/60\n",
      "19/19 [==============================] - 3s 141ms/step - loss: 3.3935e-04 - val_loss: 3.0296e-04\n",
      "Epoch 35/60\n",
      "19/19 [==============================] - 3s 139ms/step - loss: 3.1541e-04 - val_loss: 3.1603e-04\n",
      "Epoch 36/60\n",
      "19/19 [==============================] - 3s 140ms/step - loss: 3.2085e-04 - val_loss: 2.8574e-04\n",
      "Epoch 37/60\n",
      "19/19 [==============================] - 3s 141ms/step - loss: 3.2113e-04 - val_loss: 3.6894e-04\n",
      "Epoch 38/60\n",
      "19/19 [==============================] - 3s 142ms/step - loss: 2.8568e-04 - val_loss: 2.6359e-04\n",
      "Epoch 39/60\n",
      "19/19 [==============================] - 3s 140ms/step - loss: 2.9377e-04 - val_loss: 2.5243e-04\n",
      "Epoch 40/60\n",
      "19/19 [==============================] - 3s 140ms/step - loss: 2.7583e-04 - val_loss: 2.6011e-04\n",
      "Epoch 41/60\n",
      "19/19 [==============================] - 3s 140ms/step - loss: 2.7273e-04 - val_loss: 2.2358e-04\n",
      "Epoch 42/60\n",
      "19/19 [==============================] - 3s 140ms/step - loss: 2.8140e-04 - val_loss: 3.7080e-04\n",
      "Epoch 43/60\n",
      "19/19 [==============================] - 3s 141ms/step - loss: 2.7328e-04 - val_loss: 2.2925e-04\n",
      "Epoch 44/60\n",
      "19/19 [==============================] - 3s 141ms/step - loss: 2.4111e-04 - val_loss: 2.3730e-04\n",
      "Epoch 45/60\n",
      "19/19 [==============================] - 3s 144ms/step - loss: 2.9197e-04 - val_loss: 2.9823e-04\n",
      "Epoch 46/60\n",
      "19/19 [==============================] - 3s 143ms/step - loss: 2.4116e-04 - val_loss: 2.0535e-04\n",
      "Epoch 47/60\n",
      "19/19 [==============================] - 3s 141ms/step - loss: 2.4435e-04 - val_loss: 1.9138e-04\n",
      "Epoch 48/60\n",
      "19/19 [==============================] - 3s 142ms/step - loss: 2.5631e-04 - val_loss: 2.4809e-04\n",
      "Epoch 49/60\n",
      "19/19 [==============================] - 3s 142ms/step - loss: 2.4565e-04 - val_loss: 1.9700e-04\n",
      "Epoch 50/60\n",
      "19/19 [==============================] - 3s 142ms/step - loss: 2.1576e-04 - val_loss: 1.8421e-04\n",
      "Epoch 51/60\n",
      "19/19 [==============================] - 3s 139ms/step - loss: 2.2209e-04 - val_loss: 1.9726e-04\n",
      "Epoch 52/60\n",
      "19/19 [==============================] - 3s 141ms/step - loss: 2.0366e-04 - val_loss: 1.7036e-04\n",
      "Epoch 53/60\n",
      "19/19 [==============================] - 3s 142ms/step - loss: 1.9703e-04 - val_loss: 2.0078e-04\n",
      "Epoch 54/60\n",
      "19/19 [==============================] - 3s 141ms/step - loss: 1.9659e-04 - val_loss: 1.9871e-04\n",
      "Epoch 55/60\n",
      "19/19 [==============================] - 3s 140ms/step - loss: 1.9705e-04 - val_loss: 1.6529e-04\n",
      "Epoch 56/60\n",
      "19/19 [==============================] - 3s 140ms/step - loss: 2.2621e-04 - val_loss: 1.5855e-04\n",
      "Epoch 57/60\n",
      "19/19 [==============================] - 3s 142ms/step - loss: 2.0816e-04 - val_loss: 1.6210e-04\n",
      "Epoch 58/60\n",
      "19/19 [==============================] - 3s 138ms/step - loss: 1.8714e-04 - val_loss: 1.5779e-04\n",
      "Epoch 59/60\n",
      "19/19 [==============================] - 3s 140ms/step - loss: 1.7734e-04 - val_loss: 1.4942e-04\n",
      "Epoch 60/60\n",
      "19/19 [==============================] - 3s 142ms/step - loss: 1.7189e-04 - val_loss: 1.6154e-04\n"
     ]
    },
    {
     "data": {
      "text/plain": [
       "<keras.src.callbacks.History at 0x1d37c771650>"
      ]
     },
     "execution_count": 40,
     "metadata": {},
     "output_type": "execute_result"
    }
   ],
   "source": [
    "model.fit(X_train,y_train,validation_split=0.1,epochs=60,batch_size=64,verbose=1)"
   ]
  },
  {
   "cell_type": "markdown",
   "id": "d970eb1f",
   "metadata": {},
   "source": [
    "# Predicting"
   ]
  },
  {
   "cell_type": "code",
   "execution_count": 41,
   "id": "36fde87e",
   "metadata": {},
   "outputs": [
    {
     "name": "stdout",
     "output_type": "stream",
     "text": [
      "42/42 [==============================] - 2s 32ms/step\n",
      "16/16 [==============================] - 1s 33ms/step\n"
     ]
    }
   ],
   "source": [
    "train_predict=model.predict(X_train)\n",
    "test_predict=model.predict(X_test)"
   ]
  },
  {
   "cell_type": "code",
   "execution_count": 42,
   "id": "18cc2db0",
   "metadata": {},
   "outputs": [],
   "source": [
    "trian_predict=scaler.inverse_transform(train_predict)\n",
    "test_predict=scaler.inverse_transform(test_predict)"
   ]
  },
  {
   "cell_type": "markdown",
   "id": "a1fb31f3",
   "metadata": {},
   "source": [
    "# calculating the performance"
   ]
  },
  {
   "cell_type": "code",
   "execution_count": 43,
   "id": "95912693",
   "metadata": {},
   "outputs": [],
   "source": [
    "import math as mt\n",
    "from sklearn.metrics import mean_squared_error"
   ]
  },
  {
   "cell_type": "code",
   "execution_count": 44,
   "id": "0471fe6b",
   "metadata": {},
   "outputs": [
    {
     "data": {
      "text/plain": [
       "0.013005425146941455"
      ]
     },
     "execution_count": 44,
     "metadata": {},
     "output_type": "execute_result"
    }
   ],
   "source": [
    "mt.sqrt(mean_squared_error(y_train,train_predict))"
   ]
  },
  {
   "cell_type": "code",
   "execution_count": 45,
   "id": "9bb2c0da",
   "metadata": {},
   "outputs": [
    {
     "data": {
      "text/plain": [
       "209.02132494424762"
      ]
     },
     "execution_count": 45,
     "metadata": {},
     "output_type": "execute_result"
    }
   ],
   "source": [
    "mt.sqrt(mean_squared_error(y_test,test_predict))"
   ]
  },
  {
   "cell_type": "markdown",
   "id": "e0592fdc",
   "metadata": {},
   "source": [
    "# Plotting the graph with predicted train data, test data with actual data"
   ]
  },
  {
   "cell_type": "code",
   "execution_count": 46,
   "id": "51975ac4",
   "metadata": {},
   "outputs": [
    {
     "data": {
      "image/png": "[encoded data removed]",
      "text/plain": [
       "<Figure size 1700x700 with 1 Axes>"
      ]
     },
     "metadata": {},
     "output_type": "display_data"
    }
   ],
   "source": [
    "look_back=100\n",
    "\n",
    "# shift train predictions for plotting\n",
    "trainPredictPlot = np.empty_like(close_srt)\n",
    "trainPredictPlot[:, :]=np.nan\n",
    "trainPredictPlot[look_back:len(train_predict)+look_back, :]=train_predict\n",
    "\n",
    "# shift test predictions for ploting\n",
    "testPredictPlot = np.empty_like(close_srt)\n",
    "testPredictPlot[:, :]=np.nan\n",
    "testPredictPlot[len(train_predict)+(look_back*2)+1:len(close_srt)-1, :]=test_predict\n",
    "\n",
    "# plot baseline and predictions\n",
    "plt.figure(figsize=(17,7))\n",
    "plt.plot(scaler.inverse_transform(close_srt))\n",
    "plt.plot(trainPredictPlot)\n",
    "plt.plot(testPredictPlot)\n",
    "plt.show()"
   ]
  },
  {
   "cell_type": "markdown",
   "id": "f839cfa3",
   "metadata": {},
   "source": [
    "# Prediction for next 30 days"
   ]
  },
  {
   "cell_type": "code",
   "execution_count": 47,
   "id": "e43d48ef",
   "metadata": {},
   "outputs": [
    {
     "data": {
      "text/plain": [
       "611"
      ]
     },
     "execution_count": 47,
     "metadata": {},
     "output_type": "execute_result"
    }
   ],
   "source": [
    "len(test_data)"
   ]
  },
  {
   "cell_type": "code",
   "execution_count": 48,
   "id": "0640124b",
   "metadata": {},
   "outputs": [
    {
     "data": {
      "text/plain": [
       "(1, 340)"
      ]
     },
     "execution_count": 48,
     "metadata": {},
     "output_type": "execute_result"
    }
   ],
   "source": [
    "pred_input=test_data[271:].reshape(1,-1)\n",
    "pred_input.shape"
   ]
  },
  {
   "cell_type": "code",
   "execution_count": 49,
   "id": "e1e97eac",
   "metadata": {},
   "outputs": [],
   "source": [
    "temp_input=list(pred_input)\n",
    "temp_input=temp_input[0].tolist()"
   ]
  },
  {
   "cell_type": "code",
   "execution_count": 50,
   "id": "e83dc2c3",
   "metadata": {},
   "outputs": [
    {
     "data": {
      "text/plain": [
       "[0.2800245098039216,\n",
       " 0.27308006535947715,\n",
       " 0.2606209150326797,\n",
       " 0.24816176470588225,\n",
       " 0.2536764705882353,\n",
       " 0.26940359477124187,\n",
       " 0.26327614379084974,\n",
       " 0.26388888888888895,\n",
       " 0.27961601307189543,\n",
       " 0.2918709150326797,\n",
       " 0.3018790849673202,\n",
       " 0.30228758169934633,\n",
       " 0.29432189542483655,\n",
       " 0.3047385620915033,\n",
       " 0.30085784313725483,\n",
       " 0.30004084967320266,\n",
       " 0.2906454248366013,\n",
       " 0.30841503267973847,\n",
       " 0.3165849673202614,\n",
       " 0.31924019607843135,\n",
       " 0.31556372549019607,\n",
       " 0.3082107843137255,\n",
       " 0.31004901960784315,\n",
       " 0.3098447712418301,\n",
       " 0.30147058823529416,\n",
       " 0.2867647058823529,\n",
       " 0.2712418300653594,\n",
       " 0.2785947712418301,\n",
       " 0.27593954248366015,\n",
       " 0.2847222222222222,\n",
       " 0.28860294117647056,\n",
       " 0.28227124183006536,\n",
       " 0.30718954248366015,\n",
       " 0.29575163398692805,\n",
       " 0.3137254901960784,\n",
       " 0.3496732026143792,\n",
       " 0.3617238562091504,\n",
       " 0.3790849673202614,\n",
       " 0.3858251633986929,\n",
       " 0.38092320261437906,\n",
       " 0.39236111111111116,\n",
       " 0.3790849673202614,\n",
       " 0.3848039215686274,\n",
       " 0.36907679738562094,\n",
       " 0.3727532679738561,\n",
       " 0.3637663398692811,\n",
       " 0.3684640522875817,\n",
       " 0.3727532679738561,\n",
       " 0.3572303921568628,\n",
       " 0.3602941176470589,\n",
       " 0.36192810457516345,\n",
       " 0.3535539215686274,\n",
       " 0.34375,\n",
       " 0.3500816993464052,\n",
       " 0.3492647058823529,\n",
       " 0.3656045751633986,\n",
       " 0.3474264705882353,\n",
       " 0.3314950980392156,\n",
       " 0.30657679738562094,\n",
       " 0.3400735294117646,\n",
       " 0.39950980392156865,\n",
       " 0.46119281045751637,\n",
       " 0.44791666666666663,\n",
       " 0.46343954248366015,\n",
       " 0.47058823529411764,\n",
       " 0.44485294117647056,\n",
       " 0.4722222222222223,\n",
       " 0.46282679738562094,\n",
       " 0.4589460784313726,\n",
       " 0.4468954248366013,\n",
       " 0.47426470588235303,\n",
       " 0.4781454248366013,\n",
       " 0.4765114379084967,\n",
       " 0.4589460784313726,\n",
       " 0.4728349673202614,\n",
       " 0.5106209150326797,\n",
       " 0.5098039215686274,\n",
       " 0.5145016339869282,\n",
       " 0.5241013071895425,\n",
       " 0.5355392156862746,\n",
       " 0.5161356209150327,\n",
       " 0.5355392156862746,\n",
       " 0.5294117647058824,\n",
       " 0.5406454248366014,\n",
       " 0.5524918300653594,\n",
       " 0.5422794117647058,\n",
       " 0.5361519607843137,\n",
       " 0.49101307189542487,\n",
       " 0.47263071895424835,\n",
       " 0.5053104575163399,\n",
       " 0.48059640522875813,\n",
       " 0.4991830065359477,\n",
       " 0.5100081699346406,\n",
       " 0.5126633986928104,\n",
       " 0.5065359477124183,\n",
       " 0.5249183006535947,\n",
       " 0.525531045751634,\n",
       " 0.5202205882352942,\n",
       " 0.5208333333333333,\n",
       " 0.5247140522875817,\n",
       " 0.5353349673202614,\n",
       " 0.5281862745098039,\n",
       " 0.525531045751634,\n",
       " 0.528390522875817,\n",
       " 0.514093137254902,\n",
       " 0.5051062091503268,\n",
       " 0.49897875816993464,\n",
       " 0.5257352941176471,\n",
       " 0.5079656862745099,\n",
       " 0.5263480392156863,\n",
       " 0.5700571895424836,\n",
       " 0.5957924836601308,\n",
       " 0.5964052287581699,\n",
       " 0.5998774509803922,\n",
       " 0.5939542483660131,\n",
       " 0.5896650326797386,\n",
       " 0.6280637254901961,\n",
       " 0.5884395424836601,\n",
       " 0.5863970588235294,\n",
       " 0.6515522875816994,\n",
       " 0.6339869281045752,\n",
       " 0.6268382352941176,\n",
       " 0.6770833333333333,\n",
       " 0.6942401960784315,\n",
       " 0.6985294117647058,\n",
       " 0.7310049019607843,\n",
       " 0.7922794117647058,\n",
       " 0.7851307189542482,\n",
       " 0.7888071895424837,\n",
       " 0.7918709150326797,\n",
       " 0.8078022875816993,\n",
       " 0.8026960784313726,\n",
       " 0.8447712418300655,\n",
       " 0.8139297385620914,\n",
       " 0.8421160130718954,\n",
       " 0.8276143790849675,\n",
       " 0.8092320261437909,\n",
       " 0.8129084967320261,\n",
       " 0.792483660130719,\n",
       " 0.829452614379085,\n",
       " 0.8476307189542482,\n",
       " 0.8880718954248368,\n",
       " 0.8449754901960784,\n",
       " 0.8312908496732025,\n",
       " 0.8306781045751634,\n",
       " 0.8410947712418302,\n",
       " 0.8574346405228759,\n",
       " 0.8974673202614378,\n",
       " 0.8982843137254903,\n",
       " 0.8954248366013071,\n",
       " 0.906045751633987,\n",
       " 0.9191176470588236,\n",
       " 0.917483660130719,\n",
       " 0.9217728758169936,\n",
       " 0.9618055555555556,\n",
       " 0.9475081699346404,\n",
       " 0.940359477124183,\n",
       " 0.940563725490196,\n",
       " 0.9448529411764706,\n",
       " 0.9477124183006536,\n",
       " 0.9667075163398695,\n",
       " 0.957312091503268,\n",
       " 0.9524101307189543,\n",
       " 0.9491421568627452,\n",
       " 1.0,\n",
       " 0.988766339869281,\n",
       " 0.9618055555555556,\n",
       " 0.9501633986928106,\n",
       " 0.9170751633986929,\n",
       " 0.928921568627451,\n",
       " 0.9309640522875817,\n",
       " 0.9242238562091503,\n",
       " 0.9121732026143792,\n",
       " 0.9121732026143792,\n",
       " 0.9021650326797386,\n",
       " 0.9111519607843137,\n",
       " 0.8566176470588234,\n",
       " 0.8472222222222223,\n",
       " 0.7920751633986929,\n",
       " 0.7849264705882355,\n",
       " 0.7587826797385622,\n",
       " 0.8137254901960784,\n",
       " 0.8149509803921569,\n",
       " 0.8059640522875817,\n",
       " 0.8339460784313726,\n",
       " 0.821078431372549,\n",
       " 0.8092320261437909,\n",
       " 0.7951388888888891,\n",
       " 0.7638888888888888,\n",
       " 0.7430555555555556,\n",
       " 0.758374183006536,\n",
       " 0.7401960784313724,\n",
       " 0.7751225490196079,\n",
       " 0.7865604575163399,\n",
       " 0.792687908496732,\n",
       " 0.7947303921568627,\n",
       " 0.7920751633986929,\n",
       " 0.7953431372549018,\n",
       " 0.7892156862745097,\n",
       " 0.7677696078431371,\n",
       " 0.7861519607843137,\n",
       " 0.7655228758169936,\n",
       " 0.7969771241830066,\n",
       " 0.8057598039215685,\n",
       " 0.806985294117647,\n",
       " 0.8114787581699348,\n",
       " 0.7820669934640523,\n",
       " 0.7338643790849675,\n",
       " 0.7397875816993464,\n",
       " 0.744485294117647,\n",
       " 0.7267156862745099,\n",
       " 0.7228349673202614,\n",
       " 0.7404003267973855,\n",
       " 0.746936274509804,\n",
       " 0.7263071895424837,\n",
       " 0.8006535947712419,\n",
       " 0.7918709150326797,\n",
       " 0.7732843137254901,\n",
       " 0.7845179738562091,\n",
       " 0.7832924836601307,\n",
       " 0.8041258169934642,\n",
       " 0.7947303921568627,\n",
       " 0.7879901960784315,\n",
       " 0.7879901960784315,\n",
       " 0.7947303921568627,\n",
       " 0.8116830065359477,\n",
       " 0.8169934640522876,\n",
       " 0.8298611111111112,\n",
       " 0.8384395424836601,\n",
       " 0.8388480392156863,\n",
       " 0.8278186274509804,\n",
       " 0.8259803921568627,\n",
       " 0.8502859477124185,\n",
       " 0.8588643790849673,\n",
       " 0.8625408496732028,\n",
       " 0.8848039215686274,\n",
       " 0.8651960784313726,\n",
       " 0.8402777777777777,\n",
       " 0.8449754901960784,\n",
       " 0.8711192810457515,\n",
       " 0.8527369281045751,\n",
       " 0.8621323529411764,\n",
       " 0.8345588235294117,\n",
       " 0.84375,\n",
       " 0.7146650326797386,\n",
       " 0.6605392156862745,\n",
       " 0.6542075163398693,\n",
       " 0.6803513071895424,\n",
       " 0.6689133986928104,\n",
       " 0.6642156862745099,\n",
       " 0.678921568627451,\n",
       " 0.6913807189542482,\n",
       " 0.7089460784313726,\n",
       " 0.7226307189542485,\n",
       " 0.7340686274509802,\n",
       " 0.7212009803921569,\n",
       " 0.749795751633987,\n",
       " 0.7689950980392157,\n",
       " 0.7446895424836601,\n",
       " 0.7120098039215685,\n",
       " 0.7467320261437909,\n",
       " 0.7549019607843137,\n",
       " 0.7604166666666667,\n",
       " 0.7598039215686274,\n",
       " 0.7465277777777777,\n",
       " 0.7624591503267975,\n",
       " 0.7706290849673203,\n",
       " 0.8041258169934642,\n",
       " 0.7810457516339868,\n",
       " 0.7941176470588236,\n",
       " 0.7602124183006536,\n",
       " 0.7348856209150327,\n",
       " 0.7240604575163399,\n",
       " 0.7399918300653596,\n",
       " 0.749795751633987,\n",
       " 0.7614379084967322,\n",
       " 0.7542892156862746,\n",
       " 0.7475490196078431,\n",
       " 0.769607843137255,\n",
       " 0.7495915032679739,\n",
       " 0.8171977124183007,\n",
       " 0.8020833333333335,\n",
       " 0.7773692810457518,\n",
       " 0.7571486928104576,\n",
       " 0.7937091503267975,\n",
       " 0.7916666666666667,\n",
       " 0.7714460784313726,\n",
       " 0.7526552287581698,\n",
       " 0.7269199346405228,\n",
       " 0.6629901960784313,\n",
       " 0.6819852941176472,\n",
       " 0.6441993464052288,\n",
       " 0.6215277777777778,\n",
       " 0.6439950980392156,\n",
       " 0.6631944444444445,\n",
       " 0.6754493464052289,\n",
       " 0.6370506535947713,\n",
       " 0.6460375816993464,\n",
       " 0.6589052287581699,\n",
       " 0.6587009803921569,\n",
       " 0.6779003267973858,\n",
       " 0.6319444444444445,\n",
       " 0.6311274509803921,\n",
       " 0.627859477124183,\n",
       " 0.647671568627451,\n",
       " 0.6399101307189542,\n",
       " 0.6348039215686274,\n",
       " 0.6386846405228759,\n",
       " 0.6233660130718954,\n",
       " 0.627450980392157,\n",
       " 0.6397058823529412,\n",
       " 0.6470588235294118,\n",
       " 0.661968954248366,\n",
       " 0.6707516339869282,\n",
       " 0.6519607843137255,\n",
       " 0.6311274509803921,\n",
       " 0.6129493464052288,\n",
       " 0.6376633986928105,\n",
       " 0.6225490196078431,\n",
       " 0.627450980392157,\n",
       " 0.6333741830065359,\n",
       " 0.6264297385620916,\n",
       " 0.6362336601307189,\n",
       " 0.5831290849673202,\n",
       " 0.5778186274509804,\n",
       " 0.5723039215686275,\n",
       " 0.5800653594771241,\n",
       " 0.5761846405228758,\n",
       " 0.5516748366013072,\n",
       " 0.5788398692810458,\n",
       " 0.625,\n",
       " 0.6358251633986928,\n",
       " 0.6294934640522877,\n",
       " 0.6288807189542484,\n",
       " 0.6276552287581699,\n",
       " 0.6223447712418301,\n",
       " 0.6337826797385621,\n",
       " 0.6262254901960784,\n",
       " 0.622140522875817,\n",
       " 0.6241830065359477]"
      ]
     },
     "execution_count": 50,
     "metadata": {},
     "output_type": "execute_result"
    }
   ],
   "source": [
    "temp_input"
   ]
  },
  {
   "cell_type": "markdown",
   "id": "e7a51d60",
   "metadata": {},
   "source": [
    "# THANK YOU"
   ]
  }
 ],
 "metadata": {
  "kernelspec": {
   "display_name": "Python 3 (ipykernel)",
   "language": "python",
   "name": "python3"
  },
  "language_info": {
   "codemirror_mode": {
    "name": "ipython",
    "version": 3
   },
   "file_extension": ".py",
   "mimetype": "text/x-python",
   "name": "python",
   "nbconvert_exporter": "python",
   "pygments_lexer": "ipython3",
   "version": "3.11.4"
  }
 },
 "nbformat": 4,
 "nbformat_minor": 5
}
